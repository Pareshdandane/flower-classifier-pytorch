{
 "cells": [
  {
   "cell_type": "markdown",
   "metadata": {},
   "source": [
    "# Developing an AI application\n",
    "\n",
    "Going forward, AI algorithms will be incorporated into more and more everyday applications. For example, you might want to include an image classifier in a smart phone app. To do this, you'd use a deep learning model trained on hundreds of thousands of images as part of the overall application architecture. A large part of software development in the future will be using these types of models as common parts of applications. \n",
    "\n",
    "In this project, you'll train an image classifier to recognize different species of flowers. You can imagine using something like this in a phone app that tells you the name of the flower your camera is looking at. In practice you'd train this classifier, then export it for use in your application. We'll be using [this dataset](http://www.robots.ox.ac.uk/~vgg/data/flowers/102/index.html) of 102 flower categories, you can see a few examples below. \n",
    "\n",
    "<img src='assets/Flowers.png' width=500px>\n",
    "\n",
    "The project is broken down into multiple steps:\n",
    "\n",
    "* Load and preprocess the image dataset\n",
    "* Train the image classifier on your dataset\n",
    "* Use the trained classifier to predict image content\n",
    "\n",
    "We'll lead you through each part which you'll implement in Python.\n",
    "\n",
    "When you've completed this project, you'll have an application that can be trained on any set of labeled images. Here your network will be learning about flowers and end up as a command line application. But, what you do with your new skills depends on your imagination and effort in building a dataset. For example, imagine an app where you take a picture of a car, it tells you what the make and model is, then looks up information about it. Go build your own dataset and make something new.\n",
    "\n",
    "First up is importing the packages you'll need. It's good practice to keep all the imports at the beginning of your code. As you work through this notebook and find you need to import a package, make sure to add the import up here."
   ]
  },
  {
   "cell_type": "code",
   "execution_count": 1,
   "metadata": {},
   "outputs": [],
   "source": [
    "# Imports here\n",
    "import torch\n",
    "import numpy as np\n",
    "from torchvision import datasets\n",
    "import torchvision.transforms as transforms\n",
    "from torch.utils.data.sampler import SubsetRandomSampler\n",
    "import torchvision.models as models\n",
    "import torch.nn as nn\n",
    "import torch.nn.functional as F\n",
    "import torch.optim as optim\n",
    "from torch.optim import lr_scheduler\n",
    "from torch.autograd import Variable\n",
    "import matplotlib.pyplot as plt  \n",
    "from glob import glob\n",
    "from tqdm import tqdm\n",
    "from PIL import Image\n",
    "import os\n",
    "import time\n",
    "import copy"
   ]
  },
  {
   "cell_type": "code",
   "execution_count": 2,
   "metadata": {},
   "outputs": [
    {
     "name": "stdout",
     "output_type": "stream",
     "text": [
      "True\n"
     ]
    }
   ],
   "source": [
    "# check if using GPU\n",
    "gpu_mode = torch.cuda.is_available()\n",
    "print(gpu_mode)"
   ]
  },
  {
   "cell_type": "markdown",
   "metadata": {},
   "source": [
    "## Load the data\n",
    "\n",
    "Here you'll use `torchvision` to load the data ([documentation](http://pytorch.org/docs/0.3.0/torchvision/index.html)). You can [download the data here](https://s3.amazonaws.com/content.udacity-data.com/courses/nd188/flower_data.zip). The dataset is split into two parts, training and validation. For the training, you'll want to apply transformations such as random scaling, cropping, and flipping. This will help the network generalize leading to better performance. If you use a pre-trained network, you'll also need to make sure the input data is resized to 224x224 pixels as required by the networks.\n",
    "\n",
    "The validation set is used to measure the model's performance on data it hasn't seen yet. For this you don't want any scaling or rotation transformations, but you'll need to resize then crop the images to the appropriate size.\n",
    "\n",
    "The pre-trained networks available from `torchvision` were trained on the ImageNet dataset where each color channel was normalized separately. For both sets you'll need to normalize the means and standard deviations of the images to what the network expects. For the means, it's `[0.485, 0.456, 0.406]` and for the standard deviations `[0.229, 0.224, 0.225]`, calculated from the ImageNet images.  These values will shift each color channel to be centered at 0 and range from -1 to 1."
   ]
  },
  {
   "cell_type": "code",
   "execution_count": 3,
   "metadata": {},
   "outputs": [],
   "source": [
    "data_dir = 'flower_data'\n",
    "train_dir = os.path.join(data_dir, 'train')\n",
    "valid_dir = os.path.join(data_dir, 'valid')"
   ]
  },
  {
   "cell_type": "code",
   "execution_count": 4,
   "metadata": {},
   "outputs": [],
   "source": [
    "# Define batch size\n",
    "batch_size = 20\n",
    "# Define transforms for the training and validation sets\n",
    "normalize = transforms.Normalize(mean=[0.485, 0.456, 0.406],\n",
    "                                 std=[0.229, 0.224, 0.225])\n",
    "train_data_transforms = transforms.Compose([\n",
    "        transforms.RandomResizedCrop(224),\n",
    "        transforms.RandomHorizontalFlip(),\n",
    "        transforms.ToTensor(),\n",
    "        normalize,\n",
    "    ])\n",
    "\n",
    "validate_data_transforms = transforms.Compose([\n",
    "        transforms.Resize(256),\n",
    "        transforms.CenterCrop(224),\n",
    "        transforms.ToTensor(),\n",
    "        normalize,\n",
    "    ])\n",
    "\n",
    "\n",
    "# Load the datasets with ImageFolder\n",
    "train_dataset = datasets.ImageFolder(\n",
    "    train_dir,\n",
    "    train_data_transforms)\n",
    "\n",
    "validate_dataset = datasets.ImageFolder(\n",
    "    valid_dir,\n",
    "    validate_data_transforms)\n",
    "\n",
    "\n",
    "\n",
    "# Using the image datasets and the trainforms, define the dataloaders\n",
    "train_loader = torch.utils.data.DataLoader(\n",
    "    train_dataset, batch_size=batch_size, shuffle=False,\n",
    "    num_workers=4, pin_memory=True)\n",
    "\n",
    "validate_loader = torch.utils.data.DataLoader(\n",
    "    validate_dataset, batch_size=batch_size, shuffle=False,\n",
    "    num_workers=4, pin_memory=True)\n",
    "\n",
    "data_loader = {}\n",
    "data_loader['train'] = train_loader\n",
    "data_loader['valid'] = validate_loader\n",
    "# print(data_loader)"
   ]
  },
  {
   "cell_type": "markdown",
   "metadata": {},
   "source": [
    "### Label mapping\n",
    "\n",
    "You'll also need to load in a mapping from category label to category name. You can find this in the file `cat_to_name.json`. It's a JSON object which you can read in with the [`json` module](https://docs.python.org/2/library/json.html). This will give you a dictionary mapping the integer encoded categories to the actual names of the flowers."
   ]
  },
  {
   "cell_type": "code",
   "execution_count": 5,
   "metadata": {},
   "outputs": [],
   "source": [
    "import json\n",
    "\n",
    "with open('cat_to_name.json', 'r') as f:\n",
    "    cat_to_name = json.load(f)"
   ]
  },
  {
   "cell_type": "markdown",
   "metadata": {},
   "source": [
    "# Building and training the classifier\n",
    "\n",
    "Now that the data is ready, it's time to build and train the classifier. As usual, you should use one of the pretrained models from `torchvision.models` to get the image features. Build and train a new feed-forward classifier using those features.\n",
    "\n",
    "We're going to leave this part up to you. If you want to talk through it with someone, chat with your fellow students! You can also ask questions on the forums or join the instructors in office hours.\n",
    "\n",
    "Refer to [the rubric](https://review.udacity.com/#!/rubrics/1663/view) for guidance on successfully completing this section. Things you'll need to do:\n",
    "\n",
    "* Load a [pre-trained network](http://pytorch.org/docs/master/torchvision/models.html) (If you need a starting point, the VGG networks work great and are straightforward to use)\n",
    "* Define a new, untrained feed-forward network as a classifier, using ReLU activations and dropout\n",
    "* Train the classifier layers using backpropagation using the pre-trained network to get the features\n",
    "* Track the loss and accuracy on the validation set to determine the best hyperparameters\n",
    "\n",
    "We've left a cell open for you below, but use as many as you need. Our advice is to break the problem up into smaller parts you can run separately. Check that each part is doing what you expect, then move on to the next. You'll likely find that as you work through each part, you'll need to go back and modify your previous code. This is totally normal!\n",
    "\n",
    "When training make sure you're updating only the weights of the feed-forward network. You should be able to get the validation accuracy above 70% if you build everything right. Make sure to try different hyperparameters (learning rate, units in the classifier, epochs, etc) to find the best model. Save those hyperparameters to use as default values in the next part of the project."
   ]
  },
  {
   "cell_type": "code",
   "execution_count": 30,
   "metadata": {},
   "outputs": [
    {
     "name": "stdout",
     "output_type": "stream",
     "text": [
      "VGG(\n",
      "  (features): Sequential(\n",
      "    (0): Conv2d(3, 64, kernel_size=(3, 3), stride=(1, 1), padding=(1, 1))\n",
      "    (1): ReLU(inplace)\n",
      "    (2): Conv2d(64, 64, kernel_size=(3, 3), stride=(1, 1), padding=(1, 1))\n",
      "    (3): ReLU(inplace)\n",
      "    (4): MaxPool2d(kernel_size=2, stride=2, padding=0, dilation=1, ceil_mode=False)\n",
      "    (5): Conv2d(64, 128, kernel_size=(3, 3), stride=(1, 1), padding=(1, 1))\n",
      "    (6): ReLU(inplace)\n",
      "    (7): Conv2d(128, 128, kernel_size=(3, 3), stride=(1, 1), padding=(1, 1))\n",
      "    (8): ReLU(inplace)\n",
      "    (9): MaxPool2d(kernel_size=2, stride=2, padding=0, dilation=1, ceil_mode=False)\n",
      "    (10): Conv2d(128, 256, kernel_size=(3, 3), stride=(1, 1), padding=(1, 1))\n",
      "    (11): ReLU(inplace)\n",
      "    (12): Conv2d(256, 256, kernel_size=(3, 3), stride=(1, 1), padding=(1, 1))\n",
      "    (13): ReLU(inplace)\n",
      "    (14): Conv2d(256, 256, kernel_size=(3, 3), stride=(1, 1), padding=(1, 1))\n",
      "    (15): ReLU(inplace)\n",
      "    (16): MaxPool2d(kernel_size=2, stride=2, padding=0, dilation=1, ceil_mode=False)\n",
      "    (17): Conv2d(256, 512, kernel_size=(3, 3), stride=(1, 1), padding=(1, 1))\n",
      "    (18): ReLU(inplace)\n",
      "    (19): Conv2d(512, 512, kernel_size=(3, 3), stride=(1, 1), padding=(1, 1))\n",
      "    (20): ReLU(inplace)\n",
      "    (21): Conv2d(512, 512, kernel_size=(3, 3), stride=(1, 1), padding=(1, 1))\n",
      "    (22): ReLU(inplace)\n",
      "    (23): MaxPool2d(kernel_size=2, stride=2, padding=0, dilation=1, ceil_mode=False)\n",
      "    (24): Conv2d(512, 512, kernel_size=(3, 3), stride=(1, 1), padding=(1, 1))\n",
      "    (25): ReLU(inplace)\n",
      "    (26): Conv2d(512, 512, kernel_size=(3, 3), stride=(1, 1), padding=(1, 1))\n",
      "    (27): ReLU(inplace)\n",
      "    (28): Conv2d(512, 512, kernel_size=(3, 3), stride=(1, 1), padding=(1, 1))\n",
      "    (29): ReLU(inplace)\n",
      "    (30): MaxPool2d(kernel_size=2, stride=2, padding=0, dilation=1, ceil_mode=False)\n",
      "  )\n",
      "  (classifier): Sequential(\n",
      "    (0): Linear(in_features=25088, out_features=4096, bias=True)\n",
      "    (1): ReLU(inplace)\n",
      "    (2): Dropout(p=0.5)\n",
      "    (3): Linear(in_features=4096, out_features=4096, bias=True)\n",
      "    (4): ReLU(inplace)\n",
      "    (5): Dropout(p=0.5)\n",
      "    (6): Sequential(\n",
      "      (0): Linear(in_features=4096, out_features=256, bias=True)\n",
      "      (1): ReLU()\n",
      "      (2): Dropout(p=0.4)\n",
      "      (3): Linear(in_features=256, out_features=102, bias=True)\n",
      "    )\n",
      "  )\n",
      ")\n"
     ]
    }
   ],
   "source": [
    "# Build and train network\n",
    "model = models.vgg16(pretrained=True)\n",
    "\n",
    "# Freeze training for all layers\n",
    "for param in model.parameters():\n",
    "    param.requires_grad = False\n",
    "\n",
    "\n",
    "# Newly created modules have require_grad=True by default\n",
    "num_features = model.classifier[-1].in_features\n",
    "model.classifier[6] = nn.Sequential(\n",
    "                          nn.Linear(num_features, 256), \n",
    "                          nn.ReLU(), \n",
    "                          nn.Dropout(0.4),\n",
    "                          nn.Linear(256, len(cat_to_name)))\n",
    "model.classifier\n",
    "\n",
    "print(model)\n",
    "# check to see that your last layer produces the expected number of outputs\n",
    "# print(model.classifier[-1].out_features)"
   ]
  },
  {
   "cell_type": "code",
   "execution_count": 31,
   "metadata": {},
   "outputs": [
    {
     "name": "stdout",
     "output_type": "stream",
     "text": [
      "135,335,590 total parameters.\n",
      "1,075,046 training parameters.\n"
     ]
    }
   ],
   "source": [
    "# Find total parameters and trainable parameters\n",
    "total_params = sum(p.numel() for p in model.parameters())\n",
    "print(f'{total_params:,} total parameters.')\n",
    "total_trainable_params = sum(\n",
    "    p.numel() for p in model.parameters() if p.requires_grad)\n",
    "print(f'{total_trainable_params:,} training parameters.')"
   ]
  },
  {
   "cell_type": "code",
   "execution_count": 32,
   "metadata": {},
   "outputs": [],
   "source": [
    "# define the loss function and optimizer\n",
    "criterion = nn.CrossEntropyLoss()\n",
    "optimizer = optim.SGD(model.parameters(), lr=0.01)\n",
    "exp_lr_scheduler = lr_scheduler.StepLR(optimizer, step_size=7, gamma=0.1)"
   ]
  },
  {
   "cell_type": "code",
   "execution_count": 28,
   "metadata": {},
   "outputs": [],
   "source": [
    "# function that evaluates model\n",
    "def evaluate_model(model, criterion, dataset_loader, gpu_mode):\n",
    "    since = time.time()\n",
    "    # track test loss\n",
    "    test_loss = 0.0\n",
    "    class_correct = list(0. for i in range(len(cat_to_name)))\n",
    "    class_total = list(0. for i in range(len(cat_to_name)))\n",
    "\n",
    "    print(\"Evaluating model\")\n",
    "    print('-' * 10)\n",
    "    \n",
    "    model.eval()\n",
    "    # iterate over test data\n",
    "    for data, target in dataset_loader:\n",
    "        # move tensors to GPU if CUDA is available\n",
    "        if gpu_mode:\n",
    "            data, target = data.cuda(), target.cuda()\n",
    "        # forward pass: compute predicted outputs by passing inputs to the model\n",
    "        output = model(data)\n",
    "        # calculate the batch loss\n",
    "        loss = criterion(output, target)\n",
    "        # update test loss \n",
    "        test_loss += loss.item()*data.size(0)\n",
    "        # convert output probabilities to predicted class\n",
    "        _, pred = torch.max(output, 1)    \n",
    "        # compare predictions to true label\n",
    "        correct_tensor = pred.eq(target.data.view_as(pred))\n",
    "        correct = np.squeeze(correct_tensor.numpy()) if not gpu_mode else np.squeeze(correct_tensor.cpu().numpy())\n",
    "        # calculate test accuracy for each object class\n",
    "        for i in range(batch_size):\n",
    "            try:\n",
    "                label = target.data[i]\n",
    "                class_correct[label] += correct[i].item()\n",
    "                class_total[label] += 1\n",
    "            except: pass\n",
    "\n",
    "    # average test loss\n",
    "    test_loss = test_loss/len(dataset_loader.dataset)\n",
    "    print('Test Loss: {:.6f}\\n'.format(test_loss))\n",
    "\n",
    "\n",
    "    print('\\nTest Accuracy (Overall): %2d%% (%2d/%2d)' % (\n",
    "        100. * np.sum(class_correct) / np.sum(class_total),\n",
    "        np.sum(class_correct), np.sum(class_total)))\n",
    "    elapsed_time = time.time() - since\n",
    "    print()\n",
    "    print(\"Evaluation completed in {:.0f}m {:.0f}s\".format(elapsed_time // 60, elapsed_time % 60))"
   ]
  },
  {
   "cell_type": "code",
   "execution_count": 29,
   "metadata": {},
   "outputs": [
    {
     "name": "stdout",
     "output_type": "stream",
     "text": [
      "Evaluating model\n",
      "----------\n",
      "Test Loss: 4.658501\n",
      "\n",
      "\n",
      "Test Accuracy (Overall):  0% ( 5/818)\n",
      "\n",
      "Evaluation completed in 0m 17s\n"
     ]
    }
   ],
   "source": [
    "# test before training\n",
    "if gpu_mode:\n",
    "    model.cuda()\n",
    "else:\n",
    "    model.cpu()  \n",
    "\n",
    "evaluate_model(model, criterion, validate_loader, gpu_mode)"
   ]
  },
  {
   "cell_type": "code",
   "execution_count": 11,
   "metadata": {},
   "outputs": [],
   "source": [
    "def train_model(model, criterion, optimizer, scheduler, gpu_mode, data_loader, n_epochs=10):\n",
    "    # keeping track of best weights\n",
    "    best_model_wts = copy.deepcopy(model.state_dict())\n",
    "    valid_loss_min = np.Inf # track change in validation loss\n",
    "\n",
    "    for epoch in range(1, n_epochs+1):\n",
    "        # keep track of duration of each epoch\n",
    "        since = time.time()\n",
    "        running_losses  = {}\n",
    "        for phase in ['train', 'valid']:\n",
    "            # keep track of training and validation loss\n",
    "            running_loss = 0.0\n",
    "            valid_acc = 0.0\n",
    "            \n",
    "            if phase == 'train':\n",
    "                scheduler.step()\n",
    "                model.train()  # Set model to training mode\n",
    "            else:\n",
    "                model.eval()   # Set model to evaluate mode\n",
    "\n",
    "            for data, target in data_loader[phase]:\n",
    "                # move tensors to GPU if CUDA is available\n",
    "                if gpu_mode:\n",
    "                    data, target = data.cuda(), target.cuda()\n",
    "                else:\n",
    "                    data, target = data, target\n",
    "                # clear the gradients of all optimized variables\n",
    "                optimizer.zero_grad()\n",
    "                \n",
    "                # forward\n",
    "                # track history if only in train\n",
    "                with torch.set_grad_enabled(phase == 'train'):\n",
    "                    # forward pass: compute predicted outputs by passing inputs to the model\n",
    "                    output = model(data)\n",
    "                    # calculate the batch loss\n",
    "                    loss = criterion(output, target)\n",
    "                    \n",
    "                    # backward + optimize only if in training phase\n",
    "                    if phase == 'train':\n",
    "                        # backward pass: compute gradient of the loss with respect to model parameters\n",
    "                        loss.backward()\n",
    "                        # perform a single optimization step (parameter update)\n",
    "                        optimizer.step()\n",
    "                        \n",
    "                    # get prediction and accuracy in validate phase\n",
    "                    else:\n",
    "                        # convert output probabilities to predicted class\n",
    "                        _, preds = torch.max(output, 1)    \n",
    "                        valid_acc += torch.sum(preds == target.data)\n",
    "                    \n",
    "                    # update average running loss \n",
    "                    running_loss += loss.item()*data.size(0)\n",
    "\n",
    "            # calculate average losses\n",
    "            running_losses[phase] = running_loss/len(data_loader[phase].dataset)\n",
    "        valid_accuracy = float(valid_acc)/float(len(data_loader['valid'].dataset))\n",
    "\n",
    "        # print training/validation statistics \n",
    "        print('Epoch: {} \\tTraining Loss: {:.6f} \\tValidation Loss: {:.6f} \\tValidation Accuracy: {:.6f} ({}/{})'.format(\n",
    "            epoch, running_losses['train'], running_losses['valid'], valid_accuracy, valid_acc,len(data_loader['valid'].dataset)))\n",
    "\n",
    "        # save model if validation loss has decreased\n",
    "        if running_losses['valid'] <= valid_loss_min:\n",
    "            print('Validation loss decreased ({:.6f} --> {:.6f}).  Saving model ...'.format(\n",
    "            valid_loss_min, running_losses['valid']))\n",
    "            best_model_wts = copy.deepcopy(model.state_dict())\n",
    "            valid_loss_min = running_losses['valid']\n",
    "        \n",
    "        elapsed_time = time.time() - since\n",
    "        print()\n",
    "        print(\"Epoch completed in {:.0f}m {:.0f}s\".format(elapsed_time // 60, elapsed_time % 60))\n",
    "        torch.cuda.empty_cache()\n",
    "        \n",
    "    model.load_state_dict(best_model_wts)\n",
    "    return model"
   ]
  },
  {
   "cell_type": "markdown",
   "metadata": {},
   "source": [
    "## Save the checkpoint\n",
    "\n",
    "Now that your network is trained, save the model so you can load it later for making predictions. You probably want to save other things such as the mapping of classes to indices which you get from one of the image datasets: `image_datasets['train'].class_to_idx`. You can attach this to the model as an attribute which makes inference easier later on.\n",
    "\n",
    "```model.class_to_idx = image_datasets['train'].class_to_idx```\n",
    "\n",
    "Remember that you'll want to completely rebuild the model later so you can use it for inference. Make sure to include any information you need in the checkpoint. If you want to load the model and keep training, you'll want to save the number of epochs as well as the optimizer state, `optimizer.state_dict`. You'll likely want to use this trained model in the next part of the project, so best to save it now."
   ]
  },
  {
   "cell_type": "code",
   "execution_count": 12,
   "metadata": {},
   "outputs": [],
   "source": [
    "# TODO: Save the checkpoint\n",
    "def save_checkpoint(model, model_file):\n",
    "    model.class_to_idx = train_dataset.class_to_idx\n",
    "    torch.save(model.state_dict(), model_file)"
   ]
  },
  {
   "cell_type": "code",
   "execution_count": 23,
   "metadata": {},
   "outputs": [
    {
     "name": "stdout",
     "output_type": "stream",
     "text": [
      "Epoch: 1 \tTraining Loss: 1.513408 \tValidation Loss: 3.753402 \tValidation Accuracy (Overall): 0.151589 (124/818)\n",
      "Validation loss decreased (inf --> 3.753402).  Saving model ...\n",
      "\n",
      "Epoch completed in 2m 34s\n",
      "Epoch: 2 \tTraining Loss: 1.366418 \tValidation Loss: 3.579765 \tValidation Accuracy (Overall): 0.187042 (153/818)\n",
      "Validation loss decreased (3.753402 --> 3.579765).  Saving model ...\n",
      "\n",
      "Epoch completed in 2m 35s\n",
      "Epoch: 3 \tTraining Loss: 2.659875 \tValidation Loss: 2.154780 \tValidation Accuracy (Overall): 0.466993 (382/818)\n",
      "Validation loss decreased (3.579765 --> 2.154780).  Saving model ...\n",
      "\n",
      "Epoch completed in 2m 35s\n",
      "Epoch: 4 \tTraining Loss: 2.369737 \tValidation Loss: 2.000953 \tValidation Accuracy (Overall): 0.495110 (405/818)\n",
      "Validation loss decreased (2.154780 --> 2.000953).  Saving model ...\n",
      "\n",
      "Epoch completed in 2m 34s\n",
      "Epoch: 5 \tTraining Loss: 2.224931 \tValidation Loss: 1.892863 \tValidation Accuracy (Overall): 0.522005 (427/818)\n",
      "Validation loss decreased (2.000953 --> 1.892863).  Saving model ...\n",
      "\n",
      "Epoch completed in 2m 35s\n",
      "Epoch: 6 \tTraining Loss: 2.190726 \tValidation Loss: 1.816549 \tValidation Accuracy (Overall): 0.533007 (436/818)\n",
      "Validation loss decreased (1.892863 --> 1.816549).  Saving model ...\n",
      "\n",
      "Epoch completed in 2m 35s\n",
      "Epoch: 7 \tTraining Loss: 2.114324 \tValidation Loss: 1.746436 \tValidation Accuracy (Overall): 0.559902 (458/818)\n",
      "Validation loss decreased (1.816549 --> 1.746436).  Saving model ...\n",
      "\n",
      "Epoch completed in 2m 35s\n",
      "Epoch: 8 \tTraining Loss: 2.070771 \tValidation Loss: 1.682181 \tValidation Accuracy (Overall): 0.577017 (472/818)\n",
      "Validation loss decreased (1.746436 --> 1.682181).  Saving model ...\n",
      "\n",
      "Epoch completed in 2m 35s\n",
      "Epoch: 9 \tTraining Loss: 2.014022 \tValidation Loss: 1.647340 \tValidation Accuracy (Overall): 0.584352 (478/818)\n",
      "Validation loss decreased (1.682181 --> 1.647340).  Saving model ...\n",
      "\n",
      "Epoch completed in 2m 35s\n",
      "Epoch: 10 \tTraining Loss: 2.127397 \tValidation Loss: 1.587193 \tValidation Accuracy (Overall): 0.606357 (496/818)\n",
      "Validation loss decreased (1.647340 --> 1.587193).  Saving model ...\n",
      "\n",
      "Epoch completed in 2m 34s\n",
      "Epoch: 11 \tTraining Loss: 2.099190 \tValidation Loss: 1.550684 \tValidation Accuracy (Overall): 0.617359 (505/818)\n",
      "Validation loss decreased (1.587193 --> 1.550684).  Saving model ...\n",
      "\n",
      "Epoch completed in 2m 35s\n",
      "Epoch: 12 \tTraining Loss: 2.050647 \tValidation Loss: 1.526435 \tValidation Accuracy (Overall): 0.636919 (521/818)\n",
      "Validation loss decreased (1.550684 --> 1.526435).  Saving model ...\n",
      "\n",
      "Epoch completed in 2m 34s\n",
      "Epoch: 13 \tTraining Loss: 2.021436 \tValidation Loss: 1.509830 \tValidation Accuracy (Overall): 0.644254 (527/818)\n",
      "Validation loss decreased (1.526435 --> 1.509830).  Saving model ...\n",
      "\n",
      "Epoch completed in 2m 35s\n",
      "Epoch: 14 \tTraining Loss: 2.038711 \tValidation Loss: 1.497713 \tValidation Accuracy (Overall): 0.650367 (532/818)\n",
      "Validation loss decreased (1.509830 --> 1.497713).  Saving model ...\n",
      "\n",
      "Epoch completed in 2m 35s\n",
      "Epoch: 15 \tTraining Loss: 2.002157 \tValidation Loss: 1.487282 \tValidation Accuracy (Overall): 0.655257 (536/818)\n",
      "Validation loss decreased (1.497713 --> 1.487282).  Saving model ...\n",
      "\n",
      "Epoch completed in 2m 35s\n",
      "Epoch: 16 \tTraining Loss: 1.987112 \tValidation Loss: 1.478870 \tValidation Accuracy (Overall): 0.658924 (539/818)\n",
      "Validation loss decreased (1.487282 --> 1.478870).  Saving model ...\n",
      "\n",
      "Epoch completed in 2m 35s\n",
      "Epoch: 17 \tTraining Loss: 1.978433 \tValidation Loss: 1.477884 \tValidation Accuracy (Overall): 0.657702 (538/818)\n",
      "Validation loss decreased (1.478870 --> 1.477884).  Saving model ...\n",
      "\n",
      "Epoch completed in 2m 35s\n",
      "Epoch: 18 \tTraining Loss: 1.969093 \tValidation Loss: 1.476953 \tValidation Accuracy (Overall): 0.656479 (537/818)\n",
      "Validation loss decreased (1.477884 --> 1.476953).  Saving model ...\n",
      "\n",
      "Epoch completed in 2m 35s\n",
      "Epoch: 19 \tTraining Loss: 1.972297 \tValidation Loss: 1.475996 \tValidation Accuracy (Overall): 0.656479 (537/818)\n",
      "Validation loss decreased (1.476953 --> 1.475996).  Saving model ...\n",
      "\n",
      "Epoch completed in 2m 35s\n",
      "Epoch: 20 \tTraining Loss: 1.986722 \tValidation Loss: 1.475095 \tValidation Accuracy (Overall): 0.657702 (538/818)\n",
      "Validation loss decreased (1.475996 --> 1.475095).  Saving model ...\n",
      "\n",
      "Epoch completed in 2m 35s\n",
      "Epoch: 21 \tTraining Loss: 1.985837 \tValidation Loss: 1.474112 \tValidation Accuracy (Overall): 0.657702 (538/818)\n",
      "Validation loss decreased (1.475095 --> 1.474112).  Saving model ...\n",
      "\n",
      "Epoch completed in 2m 34s\n",
      "Epoch: 22 \tTraining Loss: 1.979074 \tValidation Loss: 1.473275 \tValidation Accuracy (Overall): 0.657702 (538/818)\n",
      "Validation loss decreased (1.474112 --> 1.473275).  Saving model ...\n",
      "\n",
      "Epoch completed in 2m 35s\n",
      "Epoch: 23 \tTraining Loss: 1.961933 \tValidation Loss: 1.472371 \tValidation Accuracy (Overall): 0.657702 (538/818)\n",
      "Validation loss decreased (1.473275 --> 1.472371).  Saving model ...\n",
      "\n",
      "Epoch completed in 2m 35s\n",
      "Epoch: 24 \tTraining Loss: 1.986748 \tValidation Loss: 1.472288 \tValidation Accuracy (Overall): 0.657702 (538/818)\n",
      "Validation loss decreased (1.472371 --> 1.472288).  Saving model ...\n",
      "\n",
      "Epoch completed in 2m 35s\n",
      "Epoch: 25 \tTraining Loss: 1.974130 \tValidation Loss: 1.472194 \tValidation Accuracy (Overall): 0.657702 (538/818)\n",
      "Validation loss decreased (1.472288 --> 1.472194).  Saving model ...\n",
      "\n",
      "Epoch completed in 2m 35s\n",
      "Epoch: 26 \tTraining Loss: 1.979718 \tValidation Loss: 1.472108 \tValidation Accuracy (Overall): 0.657702 (538/818)\n",
      "Validation loss decreased (1.472194 --> 1.472108).  Saving model ...\n",
      "\n",
      "Epoch completed in 2m 35s\n",
      "Epoch: 27 \tTraining Loss: 1.966043 \tValidation Loss: 1.472020 \tValidation Accuracy (Overall): 0.657702 (538/818)\n",
      "Validation loss decreased (1.472108 --> 1.472020).  Saving model ...\n",
      "\n",
      "Epoch completed in 2m 34s\n",
      "Epoch: 28 \tTraining Loss: 2.001183 \tValidation Loss: 1.471935 \tValidation Accuracy (Overall): 0.657702 (538/818)\n",
      "Validation loss decreased (1.472020 --> 1.471935).  Saving model ...\n",
      "\n",
      "Epoch completed in 2m 34s\n",
      "Epoch: 29 \tTraining Loss: 2.000971 \tValidation Loss: 1.471845 \tValidation Accuracy (Overall): 0.657702 (538/818)\n",
      "Validation loss decreased (1.471935 --> 1.471845).  Saving model ...\n",
      "\n",
      "Epoch completed in 2m 34s\n",
      "Epoch: 30 \tTraining Loss: 1.949532 \tValidation Loss: 1.471755 \tValidation Accuracy (Overall): 0.657702 (538/818)\n",
      "Validation loss decreased (1.471845 --> 1.471755).  Saving model ...\n",
      "\n",
      "Epoch completed in 2m 34s\n"
     ]
    }
   ],
   "source": [
    "if gpu_mode:\n",
    "    model.cuda()\n",
    "else:\n",
    "    model.cpu() \n",
    "model = train_model(model, criterion, optimizer, exp_lr_scheduler, gpu_mode, data_loader, n_epochs=30)\n",
    "save_checkpoint(model, 'model_flower_classifier.pt')"
   ]
  },
  {
   "cell_type": "markdown",
   "metadata": {},
   "source": [
    "## Loading the checkpoint\n",
    "\n",
    "At this point it's good to write a function that can load a checkpoint and rebuild the model. That way you can come back to this project and keep working on it without having to retrain the network."
   ]
  },
  {
   "cell_type": "code",
   "execution_count": 14,
   "metadata": {},
   "outputs": [],
   "source": [
    "# TODO: Write a function that loads a checkpoint and rebuilds the model\n",
    "def load_checkpoint(model, model_file):\n",
    "    return model.load_state_dict(torch.load(model_file))"
   ]
  },
  {
   "cell_type": "code",
   "execution_count": 15,
   "metadata": {},
   "outputs": [],
   "source": [
    "load_checkpoint(model, 'model_flower_classifier.pt')"
   ]
  },
  {
   "cell_type": "code",
   "execution_count": 16,
   "metadata": {},
   "outputs": [
    {
     "name": "stdout",
     "output_type": "stream",
     "text": [
      "Evaluating model\n",
      "----------\n",
      "Test Loss: 3.969472\n",
      "\n",
      "\n",
      "Test Accuracy (Overall): 11% (96/818)\n",
      "\n",
      "Evaluation completed in 0m 18s\n"
     ]
    }
   ],
   "source": [
    "evaluate_model(model, criterion, validate_loader, gpu_mode)"
   ]
  },
  {
   "cell_type": "markdown",
   "metadata": {},
   "source": [
    "# Inference for classification\n",
    "\n",
    "Now you'll write a function to use a trained network for inference. That is, you'll pass an image into the network and predict the class of the flower in the image. Write a function called `predict` that takes an image and a model, then returns the top $K$ most likely classes along with the probabilities. It should look like \n",
    "\n",
    "```python\n",
    "probs, classes = predict(image_path, model)\n",
    "print(probs)\n",
    "print(classes)\n",
    "> [ 0.01558163  0.01541934  0.01452626  0.01443549  0.01407339]\n",
    "> ['70', '3', '45', '62', '55']\n",
    "```\n",
    "\n",
    "First you'll need to handle processing the input image such that it can be used in your network. \n",
    "\n",
    "## Image Preprocessing\n",
    "\n",
    "You'll want to use `PIL` to load the image ([documentation](https://pillow.readthedocs.io/en/latest/reference/Image.html)). It's best to write a function that preprocesses the image so it can be used as input for the model. This function should process the images in the same manner used for training. \n",
    "\n",
    "First, resize the images where the shortest side is 256 pixels, keeping the aspect ratio. This can be done with the [`thumbnail`](http://pillow.readthedocs.io/en/3.1.x/reference/Image.html#PIL.Image.Image.thumbnail) or [`resize`](http://pillow.readthedocs.io/en/3.1.x/reference/Image.html#PIL.Image.Image.thumbnail) methods. Then you'll need to crop out the center 224x224 portion of the image.\n",
    "\n",
    "Color channels of images are typically encoded as integers 0-255, but the model expected floats 0-1. You'll need to convert the values. It's easiest with a Numpy array, which you can get from a PIL image like so `np_image = np.array(pil_image)`.\n",
    "\n",
    "As before, the network expects the images to be normalized in a specific way. For the means, it's `[0.485, 0.456, 0.406]` and for the standard deviations `[0.229, 0.224, 0.225]`. You'll want to subtract the means from each color channel, then divide by the standard deviation. \n",
    "\n",
    "And finally, PyTorch expects the color channel to be the first dimension but it's the third dimension in the PIL image and Numpy array. You can reorder dimensions using [`ndarray.transpose`](https://docs.scipy.org/doc/numpy-1.13.0/reference/generated/numpy.ndarray.transpose.html). The color channel needs to be first and retain the order of the other two dimensions."
   ]
  },
  {
   "cell_type": "code",
   "execution_count": 17,
   "metadata": {},
   "outputs": [],
   "source": [
    "def process_image(image):\n",
    "    ''' Scales, crops, and normalizes a PIL image for a PyTorch model,\n",
    "        returns an Numpy array\n",
    "    '''\n",
    "    # images have to be normalized\n",
    "    normalize = transforms.Normalize(mean=[0.485, 0.456, 0.406],\n",
    "                                 std=[0.229, 0.224, 0.225])\n",
    "    # preprocess step\n",
    "    preprocess = transforms.Compose([\n",
    "            transforms.RandomSizedCrop(224),\n",
    "            transforms.RandomHorizontalFlip(),\n",
    "            transforms.ToTensor(),\n",
    "            normalize\n",
    "        ])\n",
    "    loaded_image = Image.open(img_path)\n",
    "    img_tensor = preprocess(loaded_image).float()\n",
    "    img_tensor = img_tensor.unsqueeze(0)\n",
    "    np_image = np.array(img_tensor)\n",
    "    return np_image\n"
   ]
  },
  {
   "cell_type": "markdown",
   "metadata": {},
   "source": [
    "To check your work, the function below converts a PyTorch tensor and displays it in the notebook. If your `process_image` function works, running the output through this function should return the original image (except for the cropped out portions)."
   ]
  },
  {
   "cell_type": "code",
   "execution_count": 18,
   "metadata": {},
   "outputs": [],
   "source": [
    "def imshow(image, ax=None, title=None):\n",
    "    \"\"\"Imshow for Tensor.\"\"\"\n",
    "    if ax is None:\n",
    "        fig, ax = plt.subplots()\n",
    "    \n",
    "    # PyTorch tensors assume the color channel is the first dimension\n",
    "    # but matplotlib assumes is the third dimension\n",
    "    image = image.numpy().transpose((1, 2, 0))\n",
    "    \n",
    "    # Undo preprocessing\n",
    "    mean = np.array([0.485, 0.456, 0.406])\n",
    "    std = np.array([0.229, 0.224, 0.225])\n",
    "    image = std * image + mean\n",
    "    \n",
    "    # Image needs to be clipped between 0 and 1 or it looks like noise when displayed\n",
    "    image = np.clip(image, 0, 1)\n",
    "    \n",
    "    ax.imshow(image)\n",
    "    \n",
    "    return ax"
   ]
  },
  {
   "cell_type": "markdown",
   "metadata": {},
   "source": [
    "## Class Prediction\n",
    "\n",
    "Once you can get images in the correct format, it's time to write a function for making predictions with your model. A common practice is to predict the top 5 or so (usually called top-$K$) most probable classes. You'll want to calculate the class probabilities then find the $K$ largest values.\n",
    "\n",
    "To get the top $K$ largest values in a tensor use [`x.topk(k)`](http://pytorch.org/docs/master/torch.html#torch.topk). This method returns both the highest `k` probabilities and the indices of those probabilities corresponding to the classes. You need to convert from these indices to the actual class labels using `class_to_idx` which hopefully you added to the model or from an `ImageFolder` you used to load the data ([see here](#Save-the-checkpoint)). Make sure to invert the dictionary so you get a mapping from index to class as well.\n",
    "\n",
    "Again, this method should take a path to an image and a model checkpoint, then return the probabilities and classes.\n",
    "\n",
    "```python\n",
    "probs, classes = predict(image_path, model)\n",
    "print(probs)\n",
    "print(classes)\n",
    "> [ 0.01558163  0.01541934  0.01452626  0.01443549  0.01407339]\n",
    "> ['70', '3', '45', '62', '55']\n",
    "```"
   ]
  },
  {
   "cell_type": "code",
   "execution_count": 19,
   "metadata": {},
   "outputs": [],
   "source": [
    "def predict(image_path, model, topk=5):\n",
    "    ''' Predict the class (or classes) of an image using a trained deep learning model.\n",
    "    '''\n",
    "    model.eval()\n",
    "    \n",
    "    # preprocess image\n",
    "    img_tensor = process_image(loaded_image)\n",
    "    \n",
    "    if gpu_mode:\n",
    "        img_tensor = img_tensor.cuda()\n",
    "        model = model.cuda()\n",
    "\n",
    "    output = model(img_tensor)\n",
    "    # softmax layer to convert the output to probabilities\n",
    "    m = nn.Softmax()\n",
    "    output = m(output)\n",
    "\n",
    "    probabilities = torch.topk(output,5)[0]\n",
    "    labels = torch.topk(output,5)[1]\n",
    "    \n",
    "    if gpu_mode:\n",
    "        probabilities = probabilities.cpu()\n",
    "        labels = labels.cpu()\n",
    "    \n",
    "    return probabilities.detach().numpy(), labels.detach().numpy()"
   ]
  },
  {
   "cell_type": "markdown",
   "metadata": {},
   "source": [
    "## Sanity Checking\n",
    "\n",
    "Now that you can use a trained model for predictions, check to make sure it makes sense. Even if the validation accuracy is high, it's always good to check that there aren't obvious bugs. Use `matplotlib` to plot the probabilities for the top 5 classes as a bar graph, along with the input image. It should look like this:\n",
    "\n",
    "<img src='assets/inference_example.png' width=300px>\n",
    "\n",
    "You can convert from the class integer encoding to actual flower names with the `cat_to_name.json` file (should have been loaded earlier in the notebook). To show a PyTorch tensor as an image, use the `imshow` function defined above."
   ]
  },
  {
   "cell_type": "code",
   "execution_count": 47,
   "metadata": {},
   "outputs": [
    {
     "name": "stdout",
     "output_type": "stream",
     "text": [
      "[[0.01322669 0.01268181 0.01254766 0.01245184 0.01241482]]\n",
      "[[ 25 101   5  67  80]]\n",
      "{25: 'grape hyacinth', 101: 'trumpet creeper', 5: 'english marigold', 67: 'spring crocus', 80: 'anthurium'}\n"
     ]
    },
    {
     "name": "stderr",
     "output_type": "stream",
     "text": [
      "/home/ec2-user/anaconda3/envs/pytorch_p36/lib/python3.6/site-packages/torchvision-0.2.1-py3.6.egg/torchvision/transforms/transforms.py:563: UserWarning: The use of the transforms.RandomSizedCrop transform is deprecated, please use transforms.RandomResizedCrop instead.\n",
      "/home/ec2-user/anaconda3/envs/pytorch_p36/lib/python3.6/site-packages/ipykernel/__main__.py:28: UserWarning: Implicit dimension choice for softmax has been deprecated. Change the call to include dim=X as an argument.\n"
     ]
    }
   ],
   "source": [
    "# TODO: Display an image along with the top 5 classes\n",
    "test_img_path = '/home/ec2-user/test_images/image_05188.jpg'\n",
    "probs, preds = predict(test_img_path, model, 5)\n",
    "print(probs)\n",
    "print(preds)\n",
    "\n",
    "\n",
    "idx_to_name = {category: cat_to_name[str(category)] for category in preds[0]}\n",
    "print(idx_to_name)"
   ]
  },
  {
   "cell_type": "code",
   "execution_count": 21,
   "metadata": {},
   "outputs": [],
   "source": [
    "def view_classify(img, ps):\n",
    "    ''' Function for viewing an image and it's predicted classes.\n",
    "    '''\n",
    "#     ps = ps.data.numpy().squeeze()\n",
    "\n",
    "    fig, (ax1, ax2) = plt.subplots(figsize=(6,9), ncols=2)\n",
    "    ax1.imshow(img.resize_(1, 28, 28).numpy().squeeze())\n",
    "    ax1.axis('off')\n",
    "    ax2.barh(np.arange(10), ps)\n",
    "    ax2.set_aspect(0.1)\n",
    "    ax2.set_yticks(np.arange(10))\n",
    "    if version == \"MNIST\":\n",
    "        ax2.set_yticklabels(np.arange(5))\n",
    "\n",
    "    ax2.set_title('Class Probability')\n",
    "    ax2.set_xlim(0, 1.1)\n",
    "\n",
    "    plt.tight_layout()"
   ]
  },
  {
   "cell_type": "code",
   "execution_count": 22,
   "metadata": {},
   "outputs": [
    {
     "ename": "AttributeError",
     "evalue": "'str' object has no attribute 'resize_'",
     "output_type": "error",
     "traceback": [
      "\u001b[0;31m---------------------------------------------------------------------------\u001b[0m",
      "\u001b[0;31mAttributeError\u001b[0m                            Traceback (most recent call last)",
      "\u001b[0;32m<ipython-input-22-bb8947765085>\u001b[0m in \u001b[0;36m<module>\u001b[0;34m()\u001b[0m\n\u001b[0;32m----> 1\u001b[0;31m \u001b[0mview_classify\u001b[0m\u001b[0;34m(\u001b[0m\u001b[0mtest_img_path\u001b[0m\u001b[0;34m,\u001b[0m \u001b[0mprobs\u001b[0m\u001b[0;34m)\u001b[0m\u001b[0;34m\u001b[0m\u001b[0m\n\u001b[0m",
      "\u001b[0;32m<ipython-input-21-e4140efc2ed6>\u001b[0m in \u001b[0;36mview_classify\u001b[0;34m(img, ps)\u001b[0m\n\u001b[1;32m      5\u001b[0m \u001b[0;34m\u001b[0m\u001b[0m\n\u001b[1;32m      6\u001b[0m     \u001b[0mfig\u001b[0m\u001b[0;34m,\u001b[0m \u001b[0;34m(\u001b[0m\u001b[0max1\u001b[0m\u001b[0;34m,\u001b[0m \u001b[0max2\u001b[0m\u001b[0;34m)\u001b[0m \u001b[0;34m=\u001b[0m \u001b[0mplt\u001b[0m\u001b[0;34m.\u001b[0m\u001b[0msubplots\u001b[0m\u001b[0;34m(\u001b[0m\u001b[0mfigsize\u001b[0m\u001b[0;34m=\u001b[0m\u001b[0;34m(\u001b[0m\u001b[0;36m6\u001b[0m\u001b[0;34m,\u001b[0m\u001b[0;36m9\u001b[0m\u001b[0;34m)\u001b[0m\u001b[0;34m,\u001b[0m \u001b[0mncols\u001b[0m\u001b[0;34m=\u001b[0m\u001b[0;36m2\u001b[0m\u001b[0;34m)\u001b[0m\u001b[0;34m\u001b[0m\u001b[0m\n\u001b[0;32m----> 7\u001b[0;31m     \u001b[0max1\u001b[0m\u001b[0;34m.\u001b[0m\u001b[0mimshow\u001b[0m\u001b[0;34m(\u001b[0m\u001b[0mimg\u001b[0m\u001b[0;34m.\u001b[0m\u001b[0mresize_\u001b[0m\u001b[0;34m(\u001b[0m\u001b[0;36m1\u001b[0m\u001b[0;34m,\u001b[0m \u001b[0;36m28\u001b[0m\u001b[0;34m,\u001b[0m \u001b[0;36m28\u001b[0m\u001b[0;34m)\u001b[0m\u001b[0;34m.\u001b[0m\u001b[0mnumpy\u001b[0m\u001b[0;34m(\u001b[0m\u001b[0;34m)\u001b[0m\u001b[0;34m.\u001b[0m\u001b[0msqueeze\u001b[0m\u001b[0;34m(\u001b[0m\u001b[0;34m)\u001b[0m\u001b[0;34m)\u001b[0m\u001b[0;34m\u001b[0m\u001b[0m\n\u001b[0m\u001b[1;32m      8\u001b[0m     \u001b[0max1\u001b[0m\u001b[0;34m.\u001b[0m\u001b[0maxis\u001b[0m\u001b[0;34m(\u001b[0m\u001b[0;34m'off'\u001b[0m\u001b[0;34m)\u001b[0m\u001b[0;34m\u001b[0m\u001b[0m\n\u001b[1;32m      9\u001b[0m     \u001b[0max2\u001b[0m\u001b[0;34m.\u001b[0m\u001b[0mbarh\u001b[0m\u001b[0;34m(\u001b[0m\u001b[0mnp\u001b[0m\u001b[0;34m.\u001b[0m\u001b[0marange\u001b[0m\u001b[0;34m(\u001b[0m\u001b[0;36m10\u001b[0m\u001b[0;34m)\u001b[0m\u001b[0;34m,\u001b[0m \u001b[0mps\u001b[0m\u001b[0;34m)\u001b[0m\u001b[0;34m\u001b[0m\u001b[0m\n",
      "\u001b[0;31mAttributeError\u001b[0m: 'str' object has no attribute 'resize_'"
     ]
    },
    {
     "data": {
      "image/png": "[encoded data removed]",
      "text/plain": [
       "<Figure size 432x648 with 2 Axes>"
      ]
     },
     "metadata": {},
     "output_type": "display_data"
    }
   ],
   "source": [
    "view_classify(test_img_path, probs)"
   ]
  },
  {
   "cell_type": "code",
   "execution_count": null,
   "metadata": {},
   "outputs": [],
   "source": []
  }
 ],
 "metadata": {
  "kernelspec": {
   "display_name": "Environment (conda_pytorch_p36)",
   "language": "python",
   "name": "conda_pytorch_p36"
  },
  "language_info": {
   "codemirror_mode": {
    "name": "ipython",
    "version": 3
   },
   "file_extension": ".py",
   "mimetype": "text/x-python",
   "name": "python",
   "nbconvert_exporter": "python",
   "pygments_lexer": "ipython3",
   "version": "3.6.5"
  }
 },
 "nbformat": 4,
 "nbformat_minor": 2
}
